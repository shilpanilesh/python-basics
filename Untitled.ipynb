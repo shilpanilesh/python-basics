{
 "cells": [
  {
   "cell_type": "markdown",
   "id": "4cafd6b0",
   "metadata": {},
   "source": [
    "#Python Basics"
   ]
  },
  {
   "cell_type": "code",
   "execution_count": 1,
   "id": "6cef0ec6",
   "metadata": {},
   "outputs": [
    {
     "data": {
      "text/plain": [
       "float"
      ]
     },
     "execution_count": 1,
     "metadata": {},
     "output_type": "execute_result"
    }
   ],
   "source": [
    "type(10.6)\n"
   ]
  },
  {
   "cell_type": "code",
   "execution_count": 2,
   "id": "1d28980c",
   "metadata": {},
   "outputs": [
    {
     "data": {
      "text/plain": [
       "str"
      ]
     },
     "execution_count": 2,
     "metadata": {},
     "output_type": "execute_result"
    }
   ],
   "source": [
    "type('hello')"
   ]
  },
  {
   "cell_type": "code",
   "execution_count": 4,
   "id": "1505144c",
   "metadata": {},
   "outputs": [
    {
     "data": {
      "text/plain": [
       "str"
      ]
     },
     "execution_count": 4,
     "metadata": {},
     "output_type": "execute_result"
    }
   ],
   "source": [
    "type(\"h\")"
   ]
  },
  {
   "cell_type": "code",
   "execution_count": 8,
   "id": "3ce1a743",
   "metadata": {},
   "outputs": [
    {
     "data": {
      "text/plain": [
       "bool"
      ]
     },
     "execution_count": 8,
     "metadata": {},
     "output_type": "execute_result"
    }
   ],
   "source": [
    "type(True)"
   ]
  },
  {
   "cell_type": "code",
   "execution_count": 2,
   "id": "21d80d1f",
   "metadata": {},
   "outputs": [
    {
     "data": {
      "text/plain": [
       "2"
      ]
     },
     "execution_count": 2,
     "metadata": {},
     "output_type": "execute_result"
    }
   ],
   "source": [
    "1+1"
   ]
  },
  {
   "cell_type": "markdown",
   "id": "f9d56d02",
   "metadata": {},
   "source": [
    "# Various data type"
   ]
  },
  {
   "cell_type": "markdown",
   "id": "3a37ac0f",
   "metadata": {},
   "source": [
    "# -datatype"
   ]
  },
  {
   "cell_type": "code",
   "execution_count": 9,
   "id": "730f1663",
   "metadata": {},
   "outputs": [],
   "source": [
    "first_name='shilpa'\n",
    "last_name='patil'"
   ]
  },
  {
   "cell_type": "code",
   "execution_count": 12,
   "id": "3e6641ae",
   "metadata": {},
   "outputs": [
    {
     "name": "stdout",
     "output_type": "stream",
     "text": [
      "My first name is patil and my last name is shilpa\n"
     ]
    }
   ],
   "source": [
    "print(\"My first name is {} and my last name is {}\".format(last_name,first_name))"
   ]
  },
  {
   "cell_type": "code",
   "execution_count": 13,
   "id": "7276fe06",
   "metadata": {},
   "outputs": [
    {
     "name": "stdout",
     "output_type": "stream",
     "text": [
      "My first name is shilpa and my last name is patil\n"
     ]
    }
   ],
   "source": [
    "print(\"My first name is {first} and my last name is {last}\".format(first=first_name,last=last_name))"
   ]
  },
  {
   "cell_type": "code",
   "execution_count": 14,
   "id": "b9d378b3",
   "metadata": {},
   "outputs": [
    {
     "data": {
      "text/plain": [
       "6"
      ]
     },
     "execution_count": 14,
     "metadata": {},
     "output_type": "execute_result"
    }
   ],
   "source": [
    "len('shilpa')"
   ]
  },
  {
   "cell_type": "code",
   "execution_count": 15,
   "id": "dcfed46f",
   "metadata": {},
   "outputs": [
    {
     "data": {
      "text/plain": [
       "(int, str)"
      ]
     },
     "execution_count": 15,
     "metadata": {},
     "output_type": "execute_result"
    }
   ],
   "source": [
    "type(1), type('kli')"
   ]
  },
  {
   "cell_type": "code",
   "execution_count": null,
   "id": "7453bb73",
   "metadata": {},
   "outputs": [],
   "source": []
  }
 ],
 "metadata": {
  "kernelspec": {
   "display_name": "Python 3 (ipykernel)",
   "language": "python",
   "name": "python3"
  },
  "language_info": {
   "codemirror_mode": {
    "name": "ipython",
    "version": 3
   },
   "file_extension": ".py",
   "mimetype": "text/x-python",
   "name": "python",
   "nbconvert_exporter": "python",
   "pygments_lexer": "ipython3",
   "version": "3.9.13"
  }
 },
 "nbformat": 4,
 "nbformat_minor": 5
}
